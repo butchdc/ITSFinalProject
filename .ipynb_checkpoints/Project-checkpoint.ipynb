{
 "cells": [
  {
   "cell_type": "markdown",
   "id": "0f13ed7d-ba5e-4ff2-9b2b-57f0efbf447e",
   "metadata": {},
   "source": [
    "## Functions Declaration for Converting Coordinates"
   ]
  },
  {
   "cell_type": "code",
   "execution_count": 1,
   "id": "dfa2c027-8845-4190-a138-71a9333ff117",
   "metadata": {},
   "outputs": [],
   "source": [
    "from pyproj import Proj, transform # Import necessary functions from pyproj library\n",
    "import re # Import re module for regular expressions\n",
    "\n",
    "# Function to convert coordinates from NZTM (New Zealand Transverse Mercator) projection to WGS84 (latitude, longitude)\n",
    "def nztm_to_latlon(easting, northing):\n",
    "    # Define NZTM (New Zealand Transverse Mercator) projection using <authority>:<code> syntax\n",
    "    nztm = Proj(init=\"epsg:2193\")  # EPSG code for NZTM\n",
    "    \n",
    "    # Define WGS84 (latitude, longitude) projection using <authority>:<code> syntax\n",
    "    wgs84 = Proj(init=\"epsg:4326\")  # EPSG code for WGS84\n",
    "    \n",
    "    # Convert coordinates from NZTM to WGS84\n",
    "    lon, lat = transform(nztm, wgs84, easting, northing)\n",
    "    return lat, lon\n",
    "\n",
    "\n",
    "# Function to extract coordinates\n",
    "def extract_coordinates(description):\n",
    "    # Split the description into components\n",
    "    easting_northing = description.split()\n",
    "\n",
    "    # Remove any non-numeric characters from the components\n",
    "    easting = int(re.sub(r'\\D', '', easting_northing[0]))  # Remove non-digits (including 'E')\n",
    "    northing = int(re.sub(r'\\D', '', easting_northing[1]))  # Remove non-digits (including 'N')\n",
    "\n",
    "    return nztm_to_latlon(easting, northing)"
   ]
  },
  {
   "cell_type": "markdown",
   "id": "7044b544-f578-47ec-a010-0d03479ae461",
   "metadata": {},
   "source": [
    "## Data Normalization"
   ]
  },
  {
   "cell_type": "code",
   "execution_count": 38,
   "id": "3441a55b-0238-4b84-b3a2-e2b68a3be227",
   "metadata": {},
   "outputs": [
    {
     "name": "stdout",
     "output_type": "stream",
     "text": [
      "Original data shape: (13024, 26)\n",
      "Normalized data shape: (13024, 11)\n"
     ]
    }
   ],
   "source": [
    "import pandas as pd  # For data manipulation and analysis\n",
    "import numpy as np   # For numerical operations\n",
    "import matplotlib.pyplot as plt  # For plotting\n",
    "import warnings  # To handle warnings\n",
    "warnings.filterwarnings('ignore', category=FutureWarning)  # Ignore FutureWarnings\n",
    "\n",
    "from sklearn.preprocessing import StandardScaler  # Import StandardScaler from scikit-learn\n",
    "\n",
    "# Load the data from CSV file, explicitly setting the data type for specific columns to string\n",
    "data = pd.read_csv('Data.csv', dtype={'Column_Name': str}, low_memory=False)\n",
    "\n",
    "# Remove columns that are entirely null\n",
    "data = data.dropna(axis=1, how='all')\n",
    "\n",
    "# Convert 'Count Start Date' column to datetime format, specifying day-first format and coercing errors\n",
    "data['Count Start Date'] = pd.to_datetime(data['Count Start Date'], dayfirst=True, errors='coerce')\n",
    "\n",
    "# Get the average traffic volume for weekends\n",
    "data['Weekend Traffic ADT'] = (data['Saturday Volume'].fillna(0) + data['Sunday Volume'].fillna(0)) / 2\n",
    "\n",
    "# Filter data to include only records from '2018-02-09' onwards (Data with Location)\n",
    "filtered_data = data[data['Count Start Date'] >= '2018-02-09']\n",
    "# Remove rows where 'Description (location of traffic count)' is null\n",
    "filtered_data = filtered_data.dropna(subset=['Description (location of traffic count)'])\n",
    "\n",
    "# Apply function to extract coordinates and create new columns 'Latitude' and 'Longitude'\n",
    "filtered_data[['Latitude', 'Longitude']] = filtered_data['Description (location of traffic count)'].apply(extract_coordinates).apply(pd.Series)\n",
    "\n",
    "# List of features for normalization and plotting\n",
    "features = [\n",
    "    '5 Day ADT', 'Weekend Traffic ADT', \n",
    "    'AM Peak Volume', 'Mid Peak Volume', 'PM Peak Volume'\n",
    "]\n",
    "\n",
    "# Extract the features for normalization\n",
    "traffic_data = filtered_data[features]\n",
    "\n",
    "# Initialize the StandardScaler\n",
    "scaler = StandardScaler()\n",
    "\n",
    "# Fit and transform the data\n",
    "normalized_data = scaler.fit_transform(traffic_data)\n",
    "\n",
    "# Convert the normalized data back to a DataFrame\n",
    "normalized_df = pd.DataFrame(normalized_data, columns=features)\n",
    "\n",
    "# Reset indices to ensure alignment\n",
    "filtered_data.reset_index(drop=True, inplace=True)\n",
    "normalized_df.reset_index(drop=True, inplace=True)\n",
    "\n",
    "# Add 'Required Columns' back to the normalized DataFrame\n",
    "normalized_df['Road Name'] = filtered_data['Road Name']\n",
    "normalized_df['Carriageway Start Name'] = filtered_data['Carriageway Start Name']\n",
    "normalized_df['Carriageway End Name'] = filtered_data['Carriageway End Name']\n",
    "normalized_df['Count Start Date'] = filtered_data['Count Start Date']\n",
    "normalized_df['Latitude'] = filtered_data['Latitude']\n",
    "normalized_df['Longitude'] = filtered_data['Longitude']\n",
    "\n",
    "# Display the shape of original and normalized dataframes\n",
    "print(f\"Original data shape: {filtered_data.shape}\")\n",
    "print(f\"Normalized data shape: {normalized_df.shape}\")\n"
   ]
  },
  {
   "cell_type": "markdown",
   "id": "ddb0750c-d6bb-4b9f-b6ab-bc3f86fbf570",
   "metadata": {},
   "source": [
    "## Clean Data"
   ]
  },
  {
   "cell_type": "code",
   "execution_count": 39,
   "id": "7ff48c8b-f83c-4144-8024-10fefa1de786",
   "metadata": {},
   "outputs": [
    {
     "name": "stdout",
     "output_type": "stream",
     "text": [
      "NaN values in normalized_df:\n",
      "5 Day ADT                  1\n",
      "Weekend Traffic ADT        0\n",
      "AM Peak Volume             0\n",
      "Mid Peak Volume            0\n",
      "PM Peak Volume             0\n",
      "Road Name                  0\n",
      "Carriageway Start Name    20\n",
      "Carriageway End Name      10\n",
      "Count Start Date           0\n",
      "Latitude                   0\n",
      "Longitude                  0\n",
      "dtype: int64\n",
      "Normalized data shape: (12993, 11)\n"
     ]
    }
   ],
   "source": [
    "# Check for NaN values in normalized_df\n",
    "nan_values = normalized_df.isna().sum()\n",
    "print(\"NaN values in normalized_df:\")\n",
    "print(nan_values)\n",
    "\n",
    "#Drop rows with NaN values\n",
    "normalized_df.dropna(inplace=True)\n",
    "\n",
    "print(f\"Normalized data shape: {normalized_df.shape}\")"
   ]
  },
  {
   "cell_type": "markdown",
   "id": "e7698dbd-b3c5-43df-a644-453adf5ce54b",
   "metadata": {},
   "source": [
    "## Using Elbow Method to find the Optimal K for K Means"
   ]
  },
  {
   "cell_type": "code",
   "execution_count": 40,
   "id": "aa4043ea-2182-40a9-9436-e82996169091",
   "metadata": {},
   "outputs": [
    {
     "data": {
      "image/png": "[encoded data removed]",
      "text/plain": [
       "<Figure size 1000x600 with 1 Axes>"
      ]
     },
     "metadata": {},
     "output_type": "display_data"
    }
   ],
   "source": [
    "from sklearn.cluster import KMeans\n",
    "# Finding the optimal number of clusters (K) using the elbow method\n",
    "inertia = []\n",
    "for k in range(1, 10):\n",
    "    kmeans = KMeans(n_clusters=k, random_state=42)\n",
    "    kmeans.fit(normalized_df[features])\n",
    "    inertia.append(kmeans.inertia_)\n",
    "\n",
    "plt.figure(figsize=(10, 6))\n",
    "plt.plot(range(1, 10), inertia, marker='o')\n",
    "plt.xlabel('Number of clusters')\n",
    "plt.ylabel('Inertia')\n",
    "plt.title('Elbow Method for Optimal K')\n",
    "plt.grid(True)\n",
    "plt.show()"
   ]
  },
  {
   "cell_type": "code",
   "execution_count": 41,
   "id": "3c425b5f-d31f-456f-85a3-a3c543d469ca",
   "metadata": {},
   "outputs": [
    {
     "name": "stdout",
     "output_type": "stream",
     "text": [
      "<class 'pandas.core.frame.DataFrame'>\n",
      "Index: 12993 entries, 0 to 13023\n",
      "Data columns (total 11 columns):\n",
      " #   Column                  Non-Null Count  Dtype         \n",
      "---  ------                  --------------  -----         \n",
      " 0   5 Day ADT               12993 non-null  float64       \n",
      " 1   Weekend Traffic ADT     12993 non-null  float64       \n",
      " 2   AM Peak Volume          12993 non-null  float64       \n",
      " 3   Mid Peak Volume         12993 non-null  float64       \n",
      " 4   PM Peak Volume          12993 non-null  float64       \n",
      " 5   Road Name               12993 non-null  object        \n",
      " 6   Carriageway Start Name  12993 non-null  object        \n",
      " 7   Carriageway End Name    12993 non-null  object        \n",
      " 8   Count Start Date        12993 non-null  datetime64[ns]\n",
      " 9   Latitude                12993 non-null  float64       \n",
      " 10  Longitude               12993 non-null  float64       \n",
      "dtypes: datetime64[ns](1), float64(7), object(3)\n",
      "memory usage: 1.2+ MB\n"
     ]
    }
   ],
   "source": [
    "normalized_df.info()"
   ]
  },
  {
   "cell_type": "code",
   "execution_count": null,
   "id": "24b4e155-0024-4e6c-b2ad-b49331ea0a64",
   "metadata": {},
   "outputs": [],
   "source": []
  }
 ],
 "metadata": {
  "kernelspec": {
   "display_name": "Python 3 (ipykernel)",
   "language": "python",
   "name": "python3"
  },
  "language_info": {
   "codemirror_mode": {
    "name": "ipython",
    "version": 3
   },
   "file_extension": ".py",
   "mimetype": "text/x-python",
   "name": "python",
   "nbconvert_exporter": "python",
   "pygments_lexer": "ipython3",
   "version": "3.10.14"
  }
 },
 "nbformat": 4,
 "nbformat_minor": 5
}
